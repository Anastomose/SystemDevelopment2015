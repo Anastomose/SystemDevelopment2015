{
 "cells": [
  {
   "cell_type": "markdown",
   "metadata": {},
   "source": [
    "### Some example code demonstrating some super() behaviour\n"
   ]
  },
  {
   "cell_type": "code",
   "execution_count": null,
   "metadata": {
    "collapsed": false
   },
   "outputs": [],
   "source": [
    "class A(object):\n",
    "    def __init__(self):\n",
    "        print \"in A __init__\"\n",
    "        print \"self's class is:\", self.__class__\n",
    "        s = super(A, self).__init__()\n",
    "\n",
    "class B(object):\n",
    "    def __init__(self):\n",
    "        print \"in B.__init__\"\n",
    "        s = super(B, self).__init__()\n",
    "\n",
    "class C(object):\n",
    "    def __init__(self):\n",
    "        print \"in C.__init__\"\n",
    "        s = super(C, self).__init__()\n",
    "\n",
    "class D(C, B, A):\n",
    "    def __init__(self):\n",
    "        print \"self's class is:\", self.__class__\n",
    "        super(D, self).__init__()"
   ]
  },
  {
   "cell_type": "code",
   "execution_count": null,
   "metadata": {
    "collapsed": false
   },
   "outputs": [],
   "source": [
    "print \"D's mro:\", D.__mro__\n",
    "d = D()"
   ]
  },
  {
   "cell_type": "code",
   "execution_count": null,
   "metadata": {
    "collapsed": false
   },
   "outputs": [],
   "source": [
    "s_c = super(C, d)\n",
    "print s_c"
   ]
  },
  {
   "cell_type": "code",
   "execution_count": null,
   "metadata": {
    "collapsed": false
   },
   "outputs": [],
   "source": [
    "s_a = super(A, d)\n",
    "print s_a"
   ]
  },
  {
   "cell_type": "code",
   "execution_count": null,
   "metadata": {
    "collapsed": false
   },
   "outputs": [],
   "source": [
    "s_b = super(B, d)\n",
    "print s_b"
   ]
  },
  {
   "cell_type": "code",
   "execution_count": null,
   "metadata": {
    "collapsed": false
   },
   "outputs": [],
   "source": [
    "print D.__mro__"
   ]
  },
  {
   "cell_type": "code",
   "execution_count": null,
   "metadata": {
    "collapsed": false
   },
   "outputs": [],
   "source": [
    "## why use super() everywhere?"
   ]
  },
  {
   "cell_type": "code",
   "execution_count": null,
   "metadata": {
    "collapsed": true
   },
   "outputs": [],
   "source": [
    "# the \"old way\":\n",
    "\n",
    "class A(object):\n",
    "    def this(self):\n",
    "        print \"in A.this\"\n",
    "\n",
    "class B(object):\n",
    "    def this(self):\n",
    "        print \"in B.this\"\n",
    "\n",
    "class C(A,B):\n",
    "    def this(self):\n",
    "        print \"in C.this\"\n",
    "        A.this(self)\n",
    "        B.this(self)"
   ]
  },
  {
   "cell_type": "code",
   "execution_count": null,
   "metadata": {
    "collapsed": false
   },
   "outputs": [],
   "source": [
    "print \"Running the traditional way\"\n",
    "c = C()\n",
    "c.this()"
   ]
  },
  {
   "cell_type": "markdown",
   "metadata": {},
   "source": [
    "### Using super in just C:"
   ]
  },
  {
   "cell_type": "code",
   "execution_count": null,
   "metadata": {
    "collapsed": true
   },
   "outputs": [],
   "source": [
    "class A(object):\n",
    "    def this(self):\n",
    "        print \"in A.this\"\n",
    "\n",
    "class B(object):\n",
    "    def this(self):\n",
    "        print \"in B.this\"\n",
    "\n",
    "class C(A,B):\n",
    "    def this(self):\n",
    "        print \"in C.this\"\n",
    "        super(C, self).this()"
   ]
  },
  {
   "cell_type": "code",
   "execution_count": null,
   "metadata": {
    "collapsed": false
   },
   "outputs": [],
   "source": [
    "c = C()\n",
    "c.this()"
   ]
  },
  {
   "cell_type": "markdown",
   "metadata": {},
   "source": [
    "**Note:**  `B.this` did NOT get called!\n",
    "\n",
    "Even though it is in in the MRO:"
   ]
  },
  {
   "cell_type": "code",
   "execution_count": null,
   "metadata": {
    "collapsed": false
   },
   "outputs": [],
   "source": [
    "C.__mro__"
   ]
  },
  {
   "cell_type": "markdown",
   "metadata": {},
   "source": [
    "### Using super everywhere:"
   ]
  },
  {
   "cell_type": "code",
   "execution_count": null,
   "metadata": {
    "collapsed": true
   },
   "outputs": [],
   "source": [
    "class Base(object):\n",
    "    def this(self):\n",
    "        pass # just so there is a base that has the method\n",
    "\n",
    "class A(Base):\n",
    "    def this(self):\n",
    "        print \"in A.this\"\n",
    "        super(A, self).this()\n",
    "\n",
    "class B(Base):\n",
    "    def this(self):\n",
    "        print \"in B.this\"\n",
    "        super(B, self).this()\n",
    "class C(A,B):\n",
    "    def this(self):\n",
    "        print \"in C.this\"\n",
    "        super(C, self).this()"
   ]
  },
  {
   "cell_type": "code",
   "execution_count": null,
   "metadata": {
    "collapsed": false
   },
   "outputs": [],
   "source": [
    "c = C()\n",
    "c.this()"
   ]
  },
  {
   "cell_type": "markdown",
   "metadata": {},
   "source": [
    "Now both A and B's methods get called -- probably what you want.\n",
    "\n",
    "But if you don't want both called -- better to just be Explicit, rather than use super():"
   ]
  },
  {
   "cell_type": "code",
   "execution_count": null,
   "metadata": {
    "collapsed": true
   },
   "outputs": [],
   "source": [
    "class Base(object):\n",
    "    def this(self):\n",
    "        pass # just so there is a base that has the method\n",
    "\n",
    "class A(Base):\n",
    "    def this(self):\n",
    "        print \"in A.this\"\n",
    "        super(A, self).this()\n",
    "\n",
    "class B(Base):\n",
    "    def this(self):\n",
    "        print \"in B.this\"\n",
    "        super(B, self).this()\n",
    "\n",
    "class C(A,B):\n",
    "    def this(self):\n",
    "        print \"in C.this\"\n",
    "        A.this(self)"
   ]
  },
  {
   "cell_type": "code",
   "execution_count": null,
   "metadata": {
    "collapsed": false
   },
   "outputs": [],
   "source": [
    "c = C()\n",
    "c.this()"
   ]
  },
  {
   "cell_type": "markdown",
   "metadata": {},
   "source": [
    "**Whoa** -- B's method DID get called! -- why?"
   ]
  },
  {
   "cell_type": "code",
   "execution_count": null,
   "metadata": {
    "collapsed": false
   },
   "outputs": [],
   "source": [
    "A.__mro__"
   ]
  },
  {
   "cell_type": "markdown",
   "metadata": {},
   "source": [
    "B is not there.\n",
    "\n",
    "But:"
   ]
  },
  {
   "cell_type": "code",
   "execution_count": null,
   "metadata": {
    "collapsed": false
   },
   "outputs": [],
   "source": [
    "class Base(object):\n",
    "    def this(self):\n",
    "        pass # just so there is a base that has the method\n",
    "\n",
    "class A(Base):\n",
    "    def this(self):\n",
    "        print \"in A.this\"\n",
    "        print \"self's class:\", self.__class__\n",
    "        super(A, self).this()\n",
    "\n",
    "class B(Base):\n",
    "    def this(self):\n",
    "        print \"in B.this\"\n",
    "        super(B, self).this()\n",
    "\n",
    "class C(A,B):\n",
    "    def this(self):\n",
    "        print \"in C.this\"\n",
    "        A.this(self)"
   ]
  },
  {
   "cell_type": "code",
   "execution_count": null,
   "metadata": {
    "collapsed": false
   },
   "outputs": [],
   "source": [
    "c = C()\n",
    "c.this()"
   ]
  },
  {
   "cell_type": "markdown",
   "metadata": {},
   "source": [
    "Remember, `super()` is dynamic -- what it calls is determined at run time.\n",
    "\n",
    "That's why you need to pass `self` in to `super()`, and how it knows to call ``B``'s method too. Which is why we say that using `super()` is *part* of the interface of the class."
   ]
  },
  {
   "cell_type": "code",
   "execution_count": null,
   "metadata": {
    "collapsed": true
   },
   "outputs": [],
   "source": []
  }
 ],
 "metadata": {
  "kernelspec": {
   "display_name": "Python 2",
   "language": "python",
   "name": "python2"
  },
  "language_info": {
   "codemirror_mode": {
    "name": "ipython",
    "version": 2
   },
   "file_extension": ".py",
   "mimetype": "text/x-python",
   "name": "python",
   "nbconvert_exporter": "python",
   "pygments_lexer": "ipython2",
   "version": "2.7.9"
  }
 },
 "nbformat": 4,
 "nbformat_minor": 0
}
